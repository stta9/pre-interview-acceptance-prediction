{
 "cells": [
  {
   "cell_type": "markdown",
   "id": "9ee59562",
   "metadata": {},
   "source": [
    "# Pre-interview acceptance prediction"
   ]
  },
  {
   "cell_type": "markdown",
   "id": "3d718427",
   "metadata": {},
   "source": [
    "Importing the necessary libraries and modules"
   ]
  },
  {
   "cell_type": "code",
   "execution_count": 1,
   "id": "aa845953",
   "metadata": {},
   "outputs": [],
   "source": [
    "import pandas as pd\n",
    "import numpy as np\n",
    "import seaborn as sns\n",
    "import matplotlib.pyplot as plt\n",
    "from sklearn.model_selection import train_test_split\n",
    "from sklearn.preprocessing import OrdinalEncoder, StandardScaler\n",
    "from sklearn.linear_model import LogisticRegression\n",
    "from sklearn.naive_bayes import GaussianNB\n",
    "from sklearn.neighbors import KNeighborsClassifier\n",
    "from sklearn.metrics import classification_report, confusion_matrix\n"
   ]
  },
  {
   "cell_type": "markdown",
   "id": "bd245fea",
   "metadata": {},
   "source": [
    "Load the dataset using the link provided in the README file. Provide the full path for it."
   ]
  },
  {
   "cell_type": "code",
   "execution_count": 2,
   "id": "c03cfbf2",
   "metadata": {},
   "outputs": [
    {
     "data": {
      "text/html": [
       "<div>\n",
       "<style scoped>\n",
       "    .dataframe tbody tr th:only-of-type {\n",
       "        vertical-align: middle;\n",
       "    }\n",
       "\n",
       "    .dataframe tbody tr th {\n",
       "        vertical-align: top;\n",
       "    }\n",
       "\n",
       "    .dataframe thead th {\n",
       "        text-align: right;\n",
       "    }\n",
       "</style>\n",
       "<table border=\"1\" class=\"dataframe\">\n",
       "  <thead>\n",
       "    <tr style=\"text-align: right;\">\n",
       "      <th></th>\n",
       "      <th>Age</th>\n",
       "      <th>Education</th>\n",
       "      <th>EmployeeNumber</th>\n",
       "      <th>DailyRate</th>\n",
       "    </tr>\n",
       "  </thead>\n",
       "  <tbody>\n",
       "    <tr>\n",
       "      <th>count</th>\n",
       "      <td>1492.000000</td>\n",
       "      <td>1492.000000</td>\n",
       "      <td>1492.000000</td>\n",
       "      <td>1492.000000</td>\n",
       "    </tr>\n",
       "    <tr>\n",
       "      <th>mean</th>\n",
       "      <td>36.885389</td>\n",
       "      <td>2.916220</td>\n",
       "      <td>1036.963137</td>\n",
       "      <td>804.987936</td>\n",
       "    </tr>\n",
       "    <tr>\n",
       "      <th>std</th>\n",
       "      <td>9.102789</td>\n",
       "      <td>1.021738</td>\n",
       "      <td>605.700269</td>\n",
       "      <td>403.804253</td>\n",
       "    </tr>\n",
       "    <tr>\n",
       "      <th>min</th>\n",
       "      <td>18.000000</td>\n",
       "      <td>1.000000</td>\n",
       "      <td>1.000000</td>\n",
       "      <td>0.000000</td>\n",
       "    </tr>\n",
       "    <tr>\n",
       "      <th>25%</th>\n",
       "      <td>30.000000</td>\n",
       "      <td>2.000000</td>\n",
       "      <td>496.750000</td>\n",
       "      <td>466.750000</td>\n",
       "    </tr>\n",
       "    <tr>\n",
       "      <th>50%</th>\n",
       "      <td>36.000000</td>\n",
       "      <td>3.000000</td>\n",
       "      <td>1034.500000</td>\n",
       "      <td>804.500000</td>\n",
       "    </tr>\n",
       "    <tr>\n",
       "      <th>75%</th>\n",
       "      <td>43.000000</td>\n",
       "      <td>4.000000</td>\n",
       "      <td>1581.250000</td>\n",
       "      <td>1162.000000</td>\n",
       "    </tr>\n",
       "    <tr>\n",
       "      <th>max</th>\n",
       "      <td>60.000000</td>\n",
       "      <td>5.000000</td>\n",
       "      <td>2068.000000</td>\n",
       "      <td>1499.000000</td>\n",
       "    </tr>\n",
       "  </tbody>\n",
       "</table>\n",
       "</div>"
      ],
      "text/plain": [
       "               Age    Education  EmployeeNumber    DailyRate\n",
       "count  1492.000000  1492.000000     1492.000000  1492.000000\n",
       "mean     36.885389     2.916220     1036.963137   804.987936\n",
       "std       9.102789     1.021738      605.700269   403.804253\n",
       "min      18.000000     1.000000        1.000000     0.000000\n",
       "25%      30.000000     2.000000      496.750000   466.750000\n",
       "50%      36.000000     3.000000     1034.500000   804.500000\n",
       "75%      43.000000     4.000000     1581.250000  1162.000000\n",
       "max      60.000000     5.000000     2068.000000  1499.000000"
      ]
     },
     "execution_count": 2,
     "metadata": {},
     "output_type": "execute_result"
    }
   ],
   "source": [
    "data = pd.read_csv('logatta.csv')\n",
    "\n",
    "data.describe()\n"
   ]
  },
  {
   "cell_type": "code",
   "execution_count": 3,
   "id": "ed4920b8",
   "metadata": {
    "scrolled": true
   },
   "outputs": [
    {
     "name": "stdout",
     "output_type": "stream",
     "text": [
      "<class 'pandas.core.frame.DataFrame'>\n",
      "RangeIndex: 1492 entries, 0 to 1491\n",
      "Data columns (total 9 columns):\n",
      " #   Column                      Non-Null Count  Dtype \n",
      "---  ------                      --------------  ----- \n",
      " 0   Age                         1492 non-null   int64 \n",
      " 1   BusinessTravel              1492 non-null   object\n",
      " 2   Education                   1492 non-null   int64 \n",
      " 3   MaritalStatus               1492 non-null   object\n",
      " 4   OverTime                    1492 non-null   object\n",
      " 5   EmployeeNumber              1492 non-null   int64 \n",
      " 6   DailyRate                   1492 non-null   int64 \n",
      " 7   Gender                      1492 non-null   object\n",
      " 8   accepted for the interview  1492 non-null   bool  \n",
      "dtypes: bool(1), int64(4), object(4)\n",
      "memory usage: 94.8+ KB\n"
     ]
    }
   ],
   "source": [
    "data.info()\n"
   ]
  },
  {
   "cell_type": "code",
   "execution_count": 4,
   "id": "a45d1987",
   "metadata": {
    "scrolled": true
   },
   "outputs": [
    {
     "data": {
      "text/html": [
       "<div>\n",
       "<style scoped>\n",
       "    .dataframe tbody tr th:only-of-type {\n",
       "        vertical-align: middle;\n",
       "    }\n",
       "\n",
       "    .dataframe tbody tr th {\n",
       "        vertical-align: top;\n",
       "    }\n",
       "\n",
       "    .dataframe thead th {\n",
       "        text-align: right;\n",
       "    }\n",
       "</style>\n",
       "<table border=\"1\" class=\"dataframe\">\n",
       "  <thead>\n",
       "    <tr style=\"text-align: right;\">\n",
       "      <th></th>\n",
       "      <th>Age</th>\n",
       "      <th>BusinessTravel</th>\n",
       "      <th>Education</th>\n",
       "      <th>MaritalStatus</th>\n",
       "      <th>OverTime</th>\n",
       "      <th>EmployeeNumber</th>\n",
       "      <th>DailyRate</th>\n",
       "      <th>Gender</th>\n",
       "      <th>accepted for the interview</th>\n",
       "    </tr>\n",
       "  </thead>\n",
       "  <tbody>\n",
       "    <tr>\n",
       "      <th>0</th>\n",
       "      <td>41</td>\n",
       "      <td>Travel_Rarely</td>\n",
       "      <td>2</td>\n",
       "      <td>Single</td>\n",
       "      <td>Yes</td>\n",
       "      <td>1</td>\n",
       "      <td>1102</td>\n",
       "      <td>Female</td>\n",
       "      <td>True</td>\n",
       "    </tr>\n",
       "    <tr>\n",
       "      <th>1</th>\n",
       "      <td>49</td>\n",
       "      <td>Travel_Frequently</td>\n",
       "      <td>1</td>\n",
       "      <td>Married</td>\n",
       "      <td>No</td>\n",
       "      <td>2</td>\n",
       "      <td>279</td>\n",
       "      <td>Male</td>\n",
       "      <td>False</td>\n",
       "    </tr>\n",
       "    <tr>\n",
       "      <th>2</th>\n",
       "      <td>37</td>\n",
       "      <td>Travel_Rarely</td>\n",
       "      <td>2</td>\n",
       "      <td>Single</td>\n",
       "      <td>Yes</td>\n",
       "      <td>4</td>\n",
       "      <td>1373</td>\n",
       "      <td>Male</td>\n",
       "      <td>False</td>\n",
       "    </tr>\n",
       "    <tr>\n",
       "      <th>3</th>\n",
       "      <td>33</td>\n",
       "      <td>Travel_Frequently</td>\n",
       "      <td>4</td>\n",
       "      <td>Married</td>\n",
       "      <td>Yes</td>\n",
       "      <td>5</td>\n",
       "      <td>1392</td>\n",
       "      <td>Female</td>\n",
       "      <td>False</td>\n",
       "    </tr>\n",
       "    <tr>\n",
       "      <th>4</th>\n",
       "      <td>27</td>\n",
       "      <td>Travel_Rarely</td>\n",
       "      <td>1</td>\n",
       "      <td>Married</td>\n",
       "      <td>No</td>\n",
       "      <td>7</td>\n",
       "      <td>591</td>\n",
       "      <td>Male</td>\n",
       "      <td>False</td>\n",
       "    </tr>\n",
       "  </tbody>\n",
       "</table>\n",
       "</div>"
      ],
      "text/plain": [
       "   Age     BusinessTravel  Education MaritalStatus OverTime  EmployeeNumber  \\\n",
       "0   41      Travel_Rarely          2        Single      Yes               1   \n",
       "1   49  Travel_Frequently          1       Married       No               2   \n",
       "2   37      Travel_Rarely          2        Single      Yes               4   \n",
       "3   33  Travel_Frequently          4       Married      Yes               5   \n",
       "4   27      Travel_Rarely          1       Married       No               7   \n",
       "\n",
       "   DailyRate  Gender  accepted for the interview  \n",
       "0       1102  Female                        True  \n",
       "1        279    Male                       False  \n",
       "2       1373    Male                       False  \n",
       "3       1392  Female                       False  \n",
       "4        591    Male                       False  "
      ]
     },
     "execution_count": 4,
     "metadata": {},
     "output_type": "execute_result"
    }
   ],
   "source": [
    "data.head()\n"
   ]
  },
  {
   "cell_type": "markdown",
   "id": "6aa9437f",
   "metadata": {},
   "source": [
    "Data visualizaiton"
   ]
  },
  {
   "cell_type": "code",
   "execution_count": 5,
   "id": "7a1d8bf6",
   "metadata": {},
   "outputs": [
    {
     "name": "stderr",
     "output_type": "stream",
     "text": [
      "/var/folders/16/d8sd9tw11_q8c7jxbcz_m6480000gn/T/ipykernel_75755/591380138.py:1: FutureWarning: The default value of numeric_only in DataFrame.corr is deprecated. In a future version, it will default to False. Select only valid columns or specify the value of numeric_only to silence this warning.\n",
      "  corr_matrix = data.corr()\n"
     ]
    },
    {
     "data": {
      "image/png": "[encoded data removed]",
      "text/plain": [
       "<Figure size 1000x800 with 2 Axes>"
      ]
     },
     "metadata": {},
     "output_type": "display_data"
    }
   ],
   "source": [
    "corr_matrix = data.corr()\n",
    "\n",
    "def plot_correlation_matrix(corr_matrix):\n",
    "    plt.figure(figsize=(10, 8))\n",
    "    sns.heatmap(corr_matrix, annot=True, cmap='coolwarm', fmt='.2f', linewidths=0.5)\n",
    "    plt.title('Correlation Matrix')\n",
    "    plt.show()\n",
    "\n",
    "plot_correlation_matrix(corr_matrix)\n"
   ]
  },
  {
   "cell_type": "markdown",
   "id": "41cf0980",
   "metadata": {},
   "source": [
    "Data preprocessing"
   ]
  },
  {
   "cell_type": "code",
   "execution_count": 6,
   "id": "fc0e98bf",
   "metadata": {},
   "outputs": [],
   "source": [
    "encoder = OrdinalEncoder()\n",
    "categorical_columns = ['BusinessTravel', 'MaritalStatus', 'OverTime', 'Gender']\n",
    "data[categorical_columns] = encoder.fit_transform(data[categorical_columns])\n",
    "\n"
   ]
  },
  {
   "cell_type": "code",
   "execution_count": 7,
   "id": "f221cf75",
   "metadata": {},
   "outputs": [],
   "source": [
    "scaler = StandardScaler()\n",
    "numerical_columns = ['Age', 'Education', 'DailyRate']\n",
    "data[numerical_columns] = scaler.fit_transform(data[numerical_columns])\n"
   ]
  },
  {
   "cell_type": "code",
   "execution_count": 8,
   "id": "395b3440",
   "metadata": {},
   "outputs": [],
   "source": [
    "X = data.drop(['accepted for the interview', 'EmployeeNumber'], axis=1)  # Drop target and identifier\n",
    "y = data['accepted for the interview']\n",
    "X_train, X_test, y_train, y_test = train_test_split(X, y, test_size=0.3, random_state=42)\n"
   ]
  },
  {
   "cell_type": "markdown",
   "id": "abfbfdf0",
   "metadata": {},
   "source": [
    "Here we are running a few models: LogisticRegression, Naive Bayes, and KNN. It's a subject to change, upto the preferences."
   ]
  },
  {
   "cell_type": "code",
   "execution_count": 9,
   "id": "62bbc38a",
   "metadata": {},
   "outputs": [],
   "source": [
    "models = {\n",
    "    'Logistic Regression': LogisticRegression(),\n",
    "    'Naive Bayes': GaussianNB(),\n",
    "    'KNN': KNeighborsClassifier()\n",
    "}\n",
    "\n",
    "results = {}\n",
    "\n",
    "for name, model in models.items():\n",
    "    model.fit(X_train, y_train)\n",
    "    accuracy = model.score(X_test, y_test)\n",
    "    predictions = model.predict(X_test)\n",
    "    results[name] = {\n",
    "        'accuracy': accuracy,\n",
    "        'classification_report': classification_report(y_test, predictions),\n",
    "        'confusion_matrix': confusion_matrix(y_test, predictions)\n",
    "    }\n",
    "    "
   ]
  },
  {
   "cell_type": "markdown",
   "id": "042ee2e9",
   "metadata": {},
   "source": [
    "Results"
   ]
  },
  {
   "cell_type": "code",
   "execution_count": 10,
   "id": "a7eb4c2e",
   "metadata": {
    "scrolled": true
   },
   "outputs": [
    {
     "name": "stdout",
     "output_type": "stream",
     "text": [
      "Model: Logistic Regression\n",
      "Accuracy: 0.9084821428571429\n",
      "Classification Report:\n",
      "              precision    recall  f1-score   support\n",
      "\n",
      "       False       0.92      0.98      0.95       402\n",
      "        True       0.63      0.26      0.37        46\n",
      "\n",
      "    accuracy                           0.91       448\n",
      "   macro avg       0.78      0.62      0.66       448\n",
      "weighted avg       0.89      0.91      0.89       448\n",
      "\n",
      "Confusion Matrix:\n",
      "[[395   7]\n",
      " [ 34  12]]\n",
      "Model: Naive Bayes\n",
      "Accuracy: 0.8839285714285714\n",
      "Classification Report:\n",
      "              precision    recall  f1-score   support\n",
      "\n",
      "       False       0.99      0.88      0.93       402\n",
      "        True       0.47      0.96      0.63        46\n",
      "\n",
      "    accuracy                           0.88       448\n",
      "   macro avg       0.73      0.92      0.78       448\n",
      "weighted avg       0.94      0.88      0.90       448\n",
      "\n",
      "Confusion Matrix:\n",
      "[[352  50]\n",
      " [  2  44]]\n",
      "Model: KNN\n",
      "Accuracy: 0.96875\n",
      "Classification Report:\n",
      "              precision    recall  f1-score   support\n",
      "\n",
      "       False       0.97      1.00      0.98       402\n",
      "        True       0.97      0.72      0.82        46\n",
      "\n",
      "    accuracy                           0.97       448\n",
      "   macro avg       0.97      0.86      0.90       448\n",
      "weighted avg       0.97      0.97      0.97       448\n",
      "\n",
      "Confusion Matrix:\n",
      "[[401   1]\n",
      " [ 13  33]]\n"
     ]
    }
   ],
   "source": [
    "for name, result in results.items():\n",
    "    print(f\"Model: {name}\")\n",
    "    print(f\"Accuracy: {result['accuracy']}\")\n",
    "    print(f\"Classification Report:\\n{result['classification_report']}\")\n",
    "    print(f\"Confusion Matrix:\\n{result['confusion_matrix']}\")\n",
    "    "
   ]
  }
 ],
 "metadata": {
  "kernelspec": {
   "display_name": "Python 3 (ipykernel)",
   "language": "python",
   "name": "python3"
  },
  "language_info": {
   "codemirror_mode": {
    "name": "ipython",
    "version": 3
   },
   "file_extension": ".py",
   "mimetype": "text/x-python",
   "name": "python",
   "nbconvert_exporter": "python",
   "pygments_lexer": "ipython3",
   "version": "3.10.7"
  },
  "varInspector": {
   "cols": {
    "lenName": 16,
    "lenType": 16,
    "lenVar": 40
   },
   "kernels_config": {
    "python": {
     "delete_cmd_postfix": "",
     "delete_cmd_prefix": "del ",
     "library": "var_list.py",
     "varRefreshCmd": "print(var_dic_list())"
    },
    "r": {
     "delete_cmd_postfix": ") ",
     "delete_cmd_prefix": "rm(",
     "library": "var_list.r",
     "varRefreshCmd": "cat(var_dic_list()) "
    }
   },
   "types_to_exclude": [
    "module",
    "function",
    "builtin_function_or_method",
    "instance",
    "_Feature"
   ],
   "window_display": false
  }
 },
 "nbformat": 4,
 "nbformat_minor": 5
}
